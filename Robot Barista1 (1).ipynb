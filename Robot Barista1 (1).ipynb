{
 "cells": [
  {
   "cell_type": "code",
   "execution_count": null,
   "id": "5e494f65",
   "metadata": {},
   "outputs": [
    {
     "name": "stdout",
     "output_type": "stream",
     "text": [
      "Hello! Welcome to Python Coffeehouse!\n"
     ]
    }
   ],
   "source": [
    "# Greeting to the coffee shop\n",
    "print(\"Hello! Welcome to Python Coffeehouse!\") \n",
    "\n",
    "name = input ('What is your name?\\n')\n",
    "\n",
    "order = \"\"\n",
    "\n",
    "\n",
    "# Do not serve Joe\n",
    "if name == \"Joe\" or name == \"joe\":\n",
    "    evil_status = input ('are you evil?\\n')\n",
    "    good_deeds = int(input(\"How many good deeds have you done today?\\n\"))\n",
    "    if evil_status == \"yes\" or \"Yes\" and good_deeds < 4:\n",
    "        print (\"Sorry, we dont serve evil \" + name + 's! GET OUT OF HERE!!!')\n",
    "        import sys\n",
    "        sys.exit()\n",
    "    else:\n",
    "        print (\"Good! Welcome good \" + name + \"!\")\n",
    "        \n",
    "\n",
    "else:\n",
    "    print ('Hi ' + name + ' thank you for coming in today.\\n \\n')\n",
    "\n",
    "# Coffee menu\n",
    "menu = \"Black coffee, Espresso, Latte, Cappucino\"    \n",
    "\n",
    "# Initialize the 'order' variable\n",
    "order = \"\"\n",
    "\n",
    "# Loop until a valid order is entered\n",
    "while order not in [\"Black coffee\", \"Espresso\", \"Latte\", \"Cappucino\"]:\n",
    "    # Ask customer for their order\n",
    "    order = input(\"What can I get you from our menu today? Here is what we are serving:\\n\" + menu)\n",
    "\n",
    "    # Check if the order is not on the menu\n",
    "    if order not in [\"Black coffee\", \"Espresso\", \"Latte\", \"Cappucino\"]:\n",
    "        print(\"\\nSorry, we don't serve that here.\")\n",
    "\n",
    "# Set price for coffee\n",
    "if order == \"Black coffee\":\n",
    "    price = 4\n",
    "elif order == \"Latte\":\n",
    "    price = 5\n",
    "elif order == \"Espresso\":\n",
    "    price = 7\n",
    "elif order == \"Cappucino\":\n",
    "    price = 8\n",
    "    \n",
    "\n",
    "# Ask how many many coffees they would like and store it in the variable QUANTITY\n",
    "quantity = input (\"How many coffees would you like to order?\\n\")\n",
    "\n",
    "# Calculate the TOTAL\n",
    "total = price * int(quantity)\n",
    "\n",
    "# Give customer their TOTAL\n",
    "print(\"Thank you, Your total is: $\" + str(total))\n",
    "\n",
    "# Final statement\n",
    "print ('Great choice ' + name + \"! We'll have your \" + quantity + ' ' + order + ' ready for you in a moment.')"
   ]
  },
  {
   "cell_type": "code",
   "execution_count": null,
   "id": "62e039fe",
   "metadata": {},
   "outputs": [],
   "source": []
  }
 ],
 "metadata": {
  "kernelspec": {
   "display_name": "Python 3 (ipykernel)",
   "language": "python",
   "name": "python3"
  },
  "language_info": {
   "codemirror_mode": {
    "name": "ipython",
    "version": 3
   },
   "file_extension": ".py",
   "mimetype": "text/x-python",
   "name": "python",
   "nbconvert_exporter": "python",
   "pygments_lexer": "ipython3",
   "version": "3.9.13"
  }
 },
 "nbformat": 4,
 "nbformat_minor": 5
}
